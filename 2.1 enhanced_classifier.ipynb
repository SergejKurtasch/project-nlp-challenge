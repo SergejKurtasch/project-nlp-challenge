{
  "cells": [
    {
      "cell_type": "markdown",
      "metadata": {},
      "source": [
        "# Enhanced Fake News Classifier\n",
        "\n",
        "## Overview\n",
        "This notebook implements an enhanced fake news classifier with:\n",
        "- Robust text preprocessing (cleaning, stopword removal, lemmatization)\n",
        "- Advanced feature engineering (length, punctuation, lexical diversity, subject, dates)\n",
        "- TF-IDF vectorization and numerical feature scaling\n",
        "- Multiple models (Logistic Regression, Random Forest, Gradient Boosting, SVM)\n",
        "- Soft-voting ensemble and cross-validation\n",
        "- Predictions on validation set with confidence scores\n",
        "\n",
        "Run cells top-to-bottom.\n"
      ]
    },
    {
      "cell_type": "code",
      "execution_count": 1,
      "metadata": {},
      "outputs": [
        {
          "name": "stdout",
          "output_type": "stream",
          "text": [
            "Setup complete\n"
          ]
        },
        {
          "name": "stderr",
          "output_type": "stream",
          "text": [
            "[nltk_data] Downloading package wordnet to /Users/sergej/nltk_data...\n",
            "[nltk_data]   Package wordnet is already up-to-date!\n"
          ]
        }
      ],
      "source": [
        "# Imports and setup\n",
        "import pandas as pd\n",
        "import numpy as np\n",
        "import matplotlib.pyplot as plt\n",
        "import warnings\n",
        "warnings.filterwarnings('ignore')\n",
        "\n",
        "# Text processing\n",
        "import re\n",
        "from collections import Counter\n",
        "import nltk\n",
        "from nltk.corpus import stopwords\n",
        "from nltk.tokenize import word_tokenize\n",
        "from nltk.stem import WordNetLemmatizer\n",
        "\n",
        "# ML\n",
        "from sklearn.model_selection import train_test_split, cross_val_score\n",
        "from sklearn.feature_extraction.text import TfidfVectorizer\n",
        "from sklearn.naive_bayes import MultinomialNB\n",
        "from sklearn.linear_model import LogisticRegression\n",
        "from sklearn.ensemble import RandomForestClassifier, GradientBoostingClassifier, VotingClassifier\n",
        "from sklearn.svm import SVC\n",
        "from sklearn.metrics import classification_report, accuracy_score\n",
        "from sklearn.preprocessing import StandardScaler\n",
        "from scipy.sparse import hstack\n",
        "\n",
        "# NLTK data\n",
        "for pkg, path in [('punkt','tokenizers/punkt'),('stopwords','corpora/stopwords'),('wordnet','corpora/wordnet')]:\n",
        "    try:\n",
        "        nltk.data.find(path)\n",
        "    except LookupError:\n",
        "        nltk.download(pkg)\n",
        "\n",
        "print('Setup complete')\n"
      ]
    },
    {
      "cell_type": "code",
      "execution_count": 2,
      "metadata": {},
      "outputs": [
        {
          "name": "stdout",
          "output_type": "stream",
          "text": [
            "Loading data...\n",
            "Training: (39942, 5), Validation: (4956, 5)\n"
          ]
        }
      ],
      "source": [
        "# Load data\n",
        "print('Loading data...')\n",
        "train_data = pd.read_csv('dataset/data.csv')\n",
        "validation_data = pd.read_csv('dataset/validation_data.csv')\n",
        "print(f'Training: {train_data.shape}, Validation: {validation_data.shape}')\n"
      ]
    },
    {
      "cell_type": "code",
      "execution_count": 3,
      "metadata": {},
      "outputs": [
        {
          "name": "stdout",
          "output_type": "stream",
          "text": [
            "Preprocessing functions ready\n"
          ]
        }
      ],
      "source": [
        "# Preprocessing functions\n",
        "def clean_text(text):\n",
        "    if pd.isna(text):\n",
        "        return ''\n",
        "    text = text.lower()\n",
        "    text = re.sub(r'[^a-zA-Z\\s]', '', text)\n",
        "    text = ' '.join(text.split())\n",
        "    return text\n",
        "\n",
        "def remove_stopwords(text):\n",
        "    if pd.isna(text):\n",
        "        return ''\n",
        "    try:\n",
        "        stop_words = set(stopwords.words('english'))\n",
        "        words = word_tokenize(text)\n",
        "        return ' '.join([w for w in words if w.lower() not in stop_words])\n",
        "    except:\n",
        "        return text\n",
        "\n",
        "def lemmatize_text(text):\n",
        "    if pd.isna(text):\n",
        "        return ''\n",
        "    try:\n",
        "        lemmatizer = WordNetLemmatizer()\n",
        "        words = word_tokenize(text)\n",
        "        return ' '.join([lemmatizer.lemmatize(w) for w in words])\n",
        "    except:\n",
        "        return text\n",
        "\n",
        "def preprocess_text(text):\n",
        "    text = clean_text(text)\n",
        "    text = remove_stopwords(text)\n",
        "    text = lemmatize_text(text)\n",
        "    return text\n",
        "\n",
        "print('Preprocessing functions ready')\n"
      ]
    },
    {
      "cell_type": "code",
      "execution_count": 4,
      "metadata": {},
      "outputs": [
        {
          "name": "stdout",
          "output_type": "stream",
          "text": [
            "Date parser ready\n"
          ]
        }
      ],
      "source": [
        "# Advanced date parsing\n",
        "\n",
        "def parse_dates_robust(date_series):\n",
        "    formats = ['%B %d, %Y', '%d-%b-%y', '%Y-%m-%d', '%m/%d/%Y', '%d/%m/%Y']\n",
        "    parsed_dates = pd.Series([pd.NaT] * len(date_series), index=date_series.index)\n",
        "    for fmt in formats:\n",
        "        try:\n",
        "            temp = pd.to_datetime(date_series, format=fmt, errors='coerce')\n",
        "            mask = parsed_dates.isna() & temp.notna()\n",
        "            parsed_dates[mask] = temp[mask]\n",
        "        except:\n",
        "            continue\n",
        "    return parsed_dates\n",
        "\n",
        "print('Date parser ready')\n"
      ]
    },
    {
      "cell_type": "code",
      "execution_count": 5,
      "metadata": {},
      "outputs": [
        {
          "name": "stdout",
          "output_type": "stream",
          "text": [
            "Engineering features...\n",
            "Features ready\n"
          ]
        }
      ],
      "source": [
        "# Feature engineering\n",
        "print('Engineering features...')\n",
        "\n",
        "# Process text\n",
        "data = train_data.copy()\n",
        "data['text_processed'] = data['text'].apply(preprocess_text)\n",
        "data['title_processed'] = data['title'].apply(preprocess_text)\n",
        "\n",
        "# Basic lengths\n",
        "data['text_length'] = data['text'].str.len()\n",
        "data['title_length'] = data['title'].str.len()\n",
        "data['word_count'] = data['text'].str.split().str.len()\n",
        "data['title_word_count'] = data['title'].str.split().str.len()\n",
        "\n",
        "# Advanced text features\n",
        "data['avg_word_length'] = data['text'].str.split().str.join(' ').str.len() / data['word_count']\n",
        "data['title_avg_word_length'] = data['title'].str.split().str.join(' ').str.len() / data['title_word_count']\n",
        "\n",
        "# Punctuation features (escape regex)\n",
        "data['exclamation_count'] = data['text'].str.count(r'!')\n",
        "data['question_count'] = data['text'].str.count(r'\\?')\n",
        "data['quote_count'] = data['text'].str.count(r'\"')\n",
        "data['capital_ratio'] = data['text'].str.count(r'[A-Z]') / data['text_length']\n",
        "\n",
        "# Lexical diversity\n",
        "data['unique_words_ratio'] = data['text_processed'].str.split().apply(lambda x: len(set(x)) / len(x) if len(x) > 0 else 0)\n",
        "data['title_unique_words_ratio'] = data['title_processed'].str.split().apply(lambda x: len(set(x)) / len(x) if len(x) > 0 else 0)\n",
        "\n",
        "# Subject encoding\n",
        "from sklearn.preprocessing import LabelEncoder\n",
        "le = LabelEncoder()\n",
        "data['subject_encoded'] = le.fit_transform(data['subject'])\n",
        "subject_mapping = dict(zip(le.classes_, le.transform(le.classes_)))\n",
        "DEFAULT_SUBJECT = 0\n",
        "\n",
        "# Date features\n",
        "data['date_clean'] = data['date'].str.strip()\n",
        "data['date_parsed'] = parse_dates_robust(data['date_clean'])\n",
        "data['year'] = data['date_parsed'].dt.year\n",
        "data['month'] = data['date_parsed'].dt.month\n",
        "data['day_of_week'] = data['date_parsed'].dt.dayofweek\n",
        "data['is_weekend'] = data['day_of_week'].isin([5, 6]).astype(int)\n",
        "\n",
        "numerical_features = [\n",
        "    'text_length','title_length','word_count','title_word_count',\n",
        "    'avg_word_length','title_avg_word_length',\n",
        "    'exclamation_count','question_count','quote_count','capital_ratio',\n",
        "    'unique_words_ratio','title_unique_words_ratio',\n",
        "    'subject_encoded','year','month','day_of_week','is_weekend'\n",
        "]\n",
        "\n",
        "print('Features ready')\n"
      ]
    },
    {
      "cell_type": "code",
      "execution_count": 6,
      "metadata": {},
      "outputs": [
        {
          "name": "stdout",
          "output_type": "stream",
          "text": [
            "Vectorization and scaling complete\n"
          ]
        }
      ],
      "source": [
        "# Train/test split and vectorization\n",
        "X_text = data['text_processed']\n",
        "X_num = data[numerical_features].fillna(0)\n",
        "y = data['label']\n",
        "\n",
        "X_train_text, X_test_text, X_train_num, X_test_num, y_train, y_test = train_test_split(\n",
        "    X_text, X_num, y, test_size=0.2, random_state=42, stratify=y\n",
        ")\n",
        "\n",
        "# TF-IDF\n",
        "tfidf_vectorizer = TfidfVectorizer(\n",
        "    max_features=8000,\n",
        "    ngram_range=(1,3),\n",
        "    min_df=3,\n",
        "    max_df=0.8,\n",
        "    sublinear_tf=True\n",
        ")\n",
        "X_train_tfidf = tfidf_vectorizer.fit_transform(X_train_text)\n",
        "X_test_tfidf = tfidf_vectorizer.transform(X_test_text)\n",
        "\n",
        "# Scale numerical features\n",
        "scaler = StandardScaler()\n",
        "X_train_num_scaled = scaler.fit_transform(X_train_num)\n",
        "X_test_num_scaled = scaler.transform(X_test_num)\n",
        "\n",
        "# Combine\n",
        "from scipy.sparse import hstack\n",
        "X_train_combined = hstack([X_train_tfidf, X_train_num_scaled])\n",
        "X_test_combined = hstack([X_test_tfidf, X_test_num_scaled])\n",
        "\n",
        "print('Vectorization and scaling complete')\n"
      ]
    },
    {
      "cell_type": "code",
      "execution_count": 7,
      "metadata": {},
      "outputs": [
        {
          "name": "stdout",
          "output_type": "stream",
          "text": [
            "Logistic Regression: 0.9999\n",
            "Random Forest: 1.0000\n",
            "Gradient Boosting: 1.0000\n",
            "SVM: 0.9996\n",
            "Ensemble: 0.9999\n",
            "\n",
            "Best model: Random Forest (1.0000)\n"
          ]
        }
      ],
      "source": [
        "# Train models\n",
        "lr_model = LogisticRegression(random_state=42, max_iter=2000, C=1.0)\n",
        "rf_model = RandomForestClassifier(n_estimators=200, random_state=42, max_depth=20)\n",
        "gb_model = GradientBoostingClassifier(n_estimators=100, random_state=42)\n",
        "svm_model = SVC(random_state=42, probability=True, kernel='rbf')\n",
        "ensemble_model = VotingClassifier(\n",
        "    estimators=[('lr', lr_model), ('rf', rf_model), ('gb', gb_model), ('svm', svm_model)],\n",
        "    voting='soft'\n",
        ")\n",
        "\n",
        "models = {\n",
        "    'Logistic Regression': lr_model,\n",
        "    'Random Forest': rf_model,\n",
        "    'Gradient Boosting': gb_model,\n",
        "    'SVM': svm_model,\n",
        "    'Ensemble': ensemble_model\n",
        "}\n",
        "\n",
        "results = {}\n",
        "for name, model in models.items():\n",
        "    model.fit(X_train_combined, y_train)\n",
        "    y_pred = model.predict(X_test_combined)\n",
        "    acc = accuracy_score(y_test, y_pred)\n",
        "    results[name] = acc\n",
        "    print(f\"{name}: {acc:.4f}\")\n",
        "\n",
        "best_model_name = max(results, key=results.get)\n",
        "best_model = models[best_model_name]\n",
        "print(f\"\\nBest model: {best_model_name} ({results[best_model_name]:.4f})\")\n"
      ]
    },
    {
      "cell_type": "code",
      "execution_count": 8,
      "metadata": {},
      "outputs": [
        {
          "name": "stdout",
          "output_type": "stream",
          "text": [
            "CV scores: [0.99984353 0.99953059 0.99968706 0.99968701 0.99968701]\n",
            "CV mean: 0.9996870403386608 +/- 0.0001979206855330111\n"
          ]
        }
      ],
      "source": [
        "# Cross-validation\n",
        "cv_scores = cross_val_score(best_model, X_train_combined, y_train, cv=5)\n",
        "print('CV scores:', cv_scores)\n",
        "print('CV mean:', cv_scores.mean(), '+/-', cv_scores.std()*2)\n"
      ]
    },
    {
      "cell_type": "code",
      "execution_count": 13,
      "metadata": {},
      "outputs": [
        {
          "name": "stdout",
          "output_type": "stream",
          "text": [
            "Accuracy: 0.9998748278883465\n",
            "              precision    recall  f1-score   support\n",
            "\n",
            "        Fake       1.00      1.00      1.00      3989\n",
            "        Real       1.00      1.00      1.00      4000\n",
            "\n",
            "    accuracy                           1.00      7989\n",
            "   macro avg       1.00      1.00      1.00      7989\n",
            "weighted avg       1.00      1.00      1.00      7989\n",
            "\n"
          ]
        }
      ],
      "source": [
        "print('Accuracy:', accuracy_score(y_test, y_pred))\n",
        "print(classification_report(y_test, y_pred, target_names=['Fake','Real']))\n"
      ]
    },
    {
      "cell_type": "code",
      "execution_count": 14,
      "metadata": {},
      "outputs": [
        {
          "name": "stdout",
          "output_type": "stream",
          "text": [
            "Accuracy: 0.9998748278883465\n",
            "              precision    recall  f1-score   support\n",
            "\n",
            "        Fake       1.00      1.00      1.00      3989\n",
            "        Real       1.00      1.00      1.00      4000\n",
            "\n",
            "    accuracy                           1.00      7989\n",
            "   macro avg       1.00      1.00      1.00      7989\n",
            "weighted avg       1.00      1.00      1.00      7989\n",
            "\n"
          ]
        },
        {
          "data": {
            "image/png": "[encoded data removed]",
            "text/plain": [
              "<Figure size 640x480 with 2 Axes>"
            ]
          },
          "metadata": {},
          "output_type": "display_data"
        }
      ],
      "source": [
        "from sklearn.metrics import confusion_matrix, ConfusionMatrixDisplay, accuracy_score, classification_report\n",
        "import matplotlib.pyplot as plt\n",
        "\n",
        "# Confusion matrix\n",
        "cm = confusion_matrix(y_test, y_pred)\n",
        "\n",
        "disp = ConfusionMatrixDisplay(confusion_matrix=cm, display_labels=['Fake', 'Real'])\n",
        "disp.plot(cmap=plt.cm.Blues)\n",
        "plt.title('Confusion Matrix')\n",
        "plt.show()\n"
      ]
    },
    {
      "cell_type": "code",
      "execution_count": 9,
      "metadata": {},
      "outputs": [
        {
          "name": "stdout",
          "output_type": "stream",
          "text": [
            "Top text features:\n",
            "like: 0.0081\n",
            "know: 0.0092\n",
            "minister: 0.0101\n",
            "washington: 0.0114\n",
            "image: 0.0173\n",
            "image via: 0.0177\n",
            "washington reuters: 0.0203\n",
            "via: 0.0279\n",
            "said: 0.0375\n",
            "reuters: 0.1008\n",
            "\n",
            "Numerical features:\n",
            "text_length: 0.0067\n",
            "title_length: 0.0499\n",
            "word_count: 0.0049\n",
            "title_word_count: 0.0377\n",
            "avg_word_length: 0.0096\n",
            "title_avg_word_length: 0.0003\n",
            "exclamation_count: 0.0145\n",
            "question_count: 0.0145\n",
            "quote_count: 0.0002\n",
            "capital_ratio: 0.0016\n",
            "unique_words_ratio: 0.0015\n",
            "title_unique_words_ratio: 0.0013\n",
            "subject_encoded: 0.0980\n",
            "year: 0.0314\n",
            "month: 0.0280\n",
            "day_of_week: 0.0251\n",
            "is_weekend: 0.0002\n"
          ]
        }
      ],
      "source": [
        "# Feature importance (if available)\n",
        "if hasattr(best_model, 'feature_importances_'):\n",
        "    importances = best_model.feature_importances_\n",
        "    text_size = X_train_tfidf.shape[1]\n",
        "    text_imps = importances[:text_size]\n",
        "    top_idx = np.argsort(text_imps)[-10:]\n",
        "    top_feats = [tfidf_vectorizer.get_feature_names_out()[i] for i in top_idx]\n",
        "    print('Top text features:')\n",
        "    for f, w in zip(top_feats, text_imps[top_idx]):\n",
        "        print(f'{f}: {w:.4f}')\n",
        "    num_imps = importances[text_size:]\n",
        "    print('\\nNumerical features:')\n",
        "    for f, w in zip(numerical_features, num_imps):\n",
        "        print(f'{f}: {w:.4f}')\n",
        "else:\n",
        "    print('Model has no feature_importances_ attribute')\n"
      ]
    },
    {
      "cell_type": "code",
      "execution_count": 10,
      "metadata": {},
      "outputs": [
        {
          "data": {
            "text/html": [
              "<div>\n",
              "<style scoped>\n",
              "    .dataframe tbody tr th:only-of-type {\n",
              "        vertical-align: middle;\n",
              "    }\n",
              "\n",
              "    .dataframe tbody tr th {\n",
              "        vertical-align: top;\n",
              "    }\n",
              "\n",
              "    .dataframe thead th {\n",
              "        text-align: right;\n",
              "    }\n",
              "</style>\n",
              "<table border=\"1\" class=\"dataframe\">\n",
              "  <thead>\n",
              "    <tr style=\"text-align: right;\">\n",
              "      <th></th>\n",
              "      <th>id</th>\n",
              "      <th>label</th>\n",
              "      <th>probability_fake</th>\n",
              "      <th>probability_real</th>\n",
              "      <th>confidence</th>\n",
              "    </tr>\n",
              "  </thead>\n",
              "  <tbody>\n",
              "    <tr>\n",
              "      <th>0</th>\n",
              "      <td>0</td>\n",
              "      <td>1</td>\n",
              "      <td>0.071543</td>\n",
              "      <td>0.928457</td>\n",
              "      <td>0.928457</td>\n",
              "    </tr>\n",
              "    <tr>\n",
              "      <th>1</th>\n",
              "      <td>1</td>\n",
              "      <td>1</td>\n",
              "      <td>0.178441</td>\n",
              "      <td>0.821559</td>\n",
              "      <td>0.821559</td>\n",
              "    </tr>\n",
              "    <tr>\n",
              "      <th>2</th>\n",
              "      <td>2</td>\n",
              "      <td>1</td>\n",
              "      <td>0.128439</td>\n",
              "      <td>0.871561</td>\n",
              "      <td>0.871561</td>\n",
              "    </tr>\n",
              "    <tr>\n",
              "      <th>3</th>\n",
              "      <td>3</td>\n",
              "      <td>1</td>\n",
              "      <td>0.053886</td>\n",
              "      <td>0.946114</td>\n",
              "      <td>0.946114</td>\n",
              "    </tr>\n",
              "    <tr>\n",
              "      <th>4</th>\n",
              "      <td>4</td>\n",
              "      <td>1</td>\n",
              "      <td>0.077223</td>\n",
              "      <td>0.922777</td>\n",
              "      <td>0.922777</td>\n",
              "    </tr>\n",
              "  </tbody>\n",
              "</table>\n",
              "</div>"
            ],
            "text/plain": [
              "   id  label  probability_fake  probability_real  confidence\n",
              "0   0      1          0.071543          0.928457    0.928457\n",
              "1   1      1          0.178441          0.821559    0.821559\n",
              "2   2      1          0.128439          0.871561    0.871561\n",
              "3   3      1          0.053886          0.946114    0.946114\n",
              "4   4      1          0.077223          0.922777    0.922777"
            ]
          },
          "execution_count": 10,
          "metadata": {},
          "output_type": "execute_result"
        }
      ],
      "source": [
        "# Predict on validation data\n",
        "val = validation_data.copy()\n",
        "val['text_processed'] = val['text'].apply(preprocess_text)\n",
        "val['title_processed'] = val['title'].apply(preprocess_text)\n",
        "val['text_length'] = val['text'].str.len()\n",
        "val['title_length'] = val['title'].str.len()\n",
        "val['word_count'] = val['text'].str.split().str.len()\n",
        "val['title_word_count'] = val['title'].str.split().str.len()\n",
        "val['avg_word_length'] = val['text'].str.split().str.join(' ').str.len() / val['word_count']\n",
        "val['title_avg_word_length'] = val['title'].str.split().str.join(' ').str.len() / val['title_word_count']\n",
        "val['exclamation_count'] = val['text'].str.count(r'!')\n",
        "val['question_count'] = val['text'].str.count(r'\\?')\n",
        "val['quote_count'] = val['text'].str.count(r'\"')\n",
        "val['capital_ratio'] = val['text'].str.count(r'[A-Z]') / val['text_length']\n",
        "val['unique_words_ratio'] = val['text_processed'].str.split().apply(lambda x: len(set(x)) / len(x) if len(x) > 0 else 0)\n",
        "val['title_unique_words_ratio'] = val['title_processed'].str.split().apply(lambda x: len(set(x)) / len(x) if len(x) > 0 else 0)\n",
        "\n",
        "# Subject encoding with unseen handling\n",
        "val['subject_encoded'] = val['subject'].map(subject_mapping).fillna(DEFAULT_SUBJECT).astype(int)\n",
        "\n",
        "# Date features\n",
        "val['date_clean'] = val['date'].str.strip()\n",
        "val['date_parsed'] = parse_dates_robust(val['date_clean'])\n",
        "val['year'] = val['date_parsed'].dt.year\n",
        "val['month'] = val['date_parsed'].dt.month\n",
        "val['day_of_week'] = val['date_parsed'].dt.dayofweek\n",
        "val['is_weekend'] = val['day_of_week'].isin([5, 6]).astype(int)\n",
        "\n",
        "X_val_text = val['text_processed']\n",
        "X_val_num = val[numerical_features].fillna(0)\n",
        "X_val_num_scaled = scaler.transform(X_val_num)\n",
        "X_val_tfidf = tfidf_vectorizer.transform(X_val_text)\n",
        "X_val_combined = hstack([X_val_tfidf, X_val_num_scaled])\n",
        "\n",
        "val_pred = best_model.predict(X_val_combined)\n",
        "val_proba = best_model.predict_proba(X_val_combined)\n",
        "\n",
        "submission = pd.DataFrame({\n",
        "    'id': range(len(val)),\n",
        "    'label': val_pred,\n",
        "    'probability_fake': val_proba[:, 0],\n",
        "    'probability_real': val_proba[:, 1],\n",
        "    'confidence': np.max(val_proba, axis=1)\n",
        "})\n",
        "\n",
        "submission.head()\n"
      ]
    },
    {
      "cell_type": "code",
      "execution_count": 11,
      "metadata": {},
      "outputs": [
        {
          "name": "stdout",
          "output_type": "stream",
          "text": [
            "Saved to enhanced_fake_news_predictions.csv\n",
            "Distribution:\n",
            "label\n",
            "fake    0.702986\n",
            "real    0.297014\n",
            "Name: proportion, dtype: float64\n"
          ]
        }
      ],
      "source": [
        "# Save predictions\n",
        "submission.to_csv('enhanced_fake_news_predictions.csv', index=False)\n",
        "print(\"Saved to enhanced_fake_news_predictions.csv\")\n",
        "print('Distribution:')\n",
        "print(submission['label'].value_counts(normalize=True).rename({0:'fake',1:'real'}))\n"
      ]
    },
    {
      "cell_type": "code",
      "execution_count": 12,
      "metadata": {},
      "outputs": [
        {
          "name": "stdout",
          "output_type": "stream",
          "text": [
            "Saved labeled validation to: dataset/validation_data_labeled.csv\n"
          ]
        }
      ],
      "source": [
        "# Save validation with predicted labels into dataset\n",
        "import os\n",
        "\n",
        "# Try to use in-memory validation data if present; otherwise read from disk\n",
        "try:\n",
        "    original_val = validation_data.copy()\n",
        "except NameError:\n",
        "    original_val = pd.read_csv('dataset/validation_data.csv')\n",
        "\n",
        "# Ensure lengths match\n",
        "assert len(original_val) == len(submission), 'Length mismatch between validation and predictions'\n",
        "\n",
        "labeled_val = original_val.copy()\n",
        "labeled_val['label'] = submission['label'].values\n",
        "\n",
        "out_path = os.path.join('dataset', 'validation_data_labeled.csv')\n",
        "labeled_val.to_csv(out_path, index=False)\n",
        "print(f\"Saved labeled validation to: {out_path}\")\n"
      ]
    }
  ],
  "metadata": {
    "kernelspec": {
      "display_name": "Python 3",
      "language": "python",
      "name": "python3"
    },
    "language_info": {
      "codemirror_mode": {
        "name": "ipython",
        "version": 3
      },
      "file_extension": ".py",
      "mimetype": "text/x-python",
      "name": "python",
      "nbconvert_exporter": "python",
      "pygments_lexer": "ipython3",
      "version": "3.11.8"
    }
  },
  "nbformat": 4,
  "nbformat_minor": 2
}

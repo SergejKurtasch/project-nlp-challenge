{
  "cells": [
    {
      "cell_type": "markdown",
      "metadata": {},
      "source": [
        "Sure! Here's the English translation:\n",
        "\n",
        "# Embeddings-based Fake News Classifier\n",
        "\n",
        "## Overview\n",
        "This notebook builds a fake news classifier using sentence embeddings (Sentence-Transformers) and a simple linear classifier. Its structure is similar to `enhanced_classifier.ipynb`, but without complex text preprocessing.\n",
        "\n",
        "Pipeline:\n",
        "- Installation and import of libraries  \n",
        "- Data loading  \n",
        "- Input text formation (title + text)  \n",
        "- Embedding generation (all-MiniLM-L6-v2)  \n",
        "- Train/test split  \n",
        "- Logistic Regression training  \n",
        "- Quality evaluation  \n",
        "- Prediction generation for validation and saving to CSV  \n",
        "\n",
        "If you'd like, I can help you expand this into a full project description or even turn it into a presentation."
      ]
    },
    {
      "cell_type": "code",
      "execution_count": 1,
      "metadata": {},
      "outputs": [
        {
          "name": "stderr",
          "output_type": "stream",
          "text": [
            "/Users/sergej/.pyenv/versions/3.11.8/lib/python3.11/site-packages/tqdm/auto.py:21: TqdmWarning: IProgress not found. Please update jupyter and ipywidgets. See https://ipywidgets.readthedocs.io/en/stable/user_install.html\n",
            "  from .autonotebook import tqdm as notebook_tqdm\n"
          ]
        },
        {
          "name": "stdout",
          "output_type": "stream",
          "text": [
            "Environment ready\n"
          ]
        }
      ],
      "source": [
        "# Setup and imports\n",
        "import sys\n",
        "!{sys.executable} -m pip install -q sentence-transformers\n",
        "\n",
        "import pandas as pd\n",
        "import numpy as np\n",
        "from sentence_transformers import SentenceTransformer\n",
        "from sklearn.linear_model import LogisticRegression\n",
        "from sklearn.model_selection import train_test_split\n",
        "from sklearn.metrics import classification_report, accuracy_score\n",
        "\n",
        "print('Environment ready')\n"
      ]
    },
    {
      "cell_type": "code",
      "execution_count": 2,
      "metadata": {},
      "outputs": [
        {
          "name": "stdout",
          "output_type": "stream",
          "text": [
            "(39942, 5) (4956, 5)\n"
          ]
        },
        {
          "data": {
            "text/html": [
              "<div>\n",
              "<style scoped>\n",
              "    .dataframe tbody tr th:only-of-type {\n",
              "        vertical-align: middle;\n",
              "    }\n",
              "\n",
              "    .dataframe tbody tr th {\n",
              "        vertical-align: top;\n",
              "    }\n",
              "\n",
              "    .dataframe thead th {\n",
              "        text-align: right;\n",
              "    }\n",
              "</style>\n",
              "<table border=\"1\" class=\"dataframe\">\n",
              "  <thead>\n",
              "    <tr style=\"text-align: right;\">\n",
              "      <th></th>\n",
              "      <th>label</th>\n",
              "      <th>title</th>\n",
              "      <th>text</th>\n",
              "      <th>subject</th>\n",
              "      <th>date</th>\n",
              "    </tr>\n",
              "  </thead>\n",
              "  <tbody>\n",
              "    <tr>\n",
              "      <th>0</th>\n",
              "      <td>1</td>\n",
              "      <td>As U.S. budget fight looms, Republicans flip t...</td>\n",
              "      <td>WASHINGTON (Reuters) - The head of a conservat...</td>\n",
              "      <td>politicsNews</td>\n",
              "      <td>December 31, 2017</td>\n",
              "    </tr>\n",
              "    <tr>\n",
              "      <th>1</th>\n",
              "      <td>1</td>\n",
              "      <td>U.S. military to accept transgender recruits o...</td>\n",
              "      <td>WASHINGTON (Reuters) - Transgender people will...</td>\n",
              "      <td>politicsNews</td>\n",
              "      <td>December 29, 2017</td>\n",
              "    </tr>\n",
              "  </tbody>\n",
              "</table>\n",
              "</div>"
            ],
            "text/plain": [
              "   label                                              title  \\\n",
              "0      1  As U.S. budget fight looms, Republicans flip t...   \n",
              "1      1  U.S. military to accept transgender recruits o...   \n",
              "\n",
              "                                                text       subject  \\\n",
              "0  WASHINGTON (Reuters) - The head of a conservat...  politicsNews   \n",
              "1  WASHINGTON (Reuters) - Transgender people will...  politicsNews   \n",
              "\n",
              "                 date  \n",
              "0  December 31, 2017   \n",
              "1  December 29, 2017   "
            ]
          },
          "execution_count": 2,
          "metadata": {},
          "output_type": "execute_result"
        }
      ],
      "source": [
        "# Load data\n",
        "train_df = pd.read_csv('dataset/data.csv')\n",
        "val_df = pd.read_csv('dataset/validation_data.csv')\n",
        "print(train_df.shape, val_df.shape)\n",
        "train_df.head(2)\n"
      ]
    },
    {
      "cell_type": "code",
      "execution_count": 3,
      "metadata": {},
      "outputs": [
        {
          "name": "stdout",
          "output_type": "stream",
          "text": [
            "Samples: 39942 Labels: (39942,)\n",
            "As U.S. budget fight looms, Republicans flip their fiscal script WASHINGTON (Reuters) - The head of a conservative Republican faction in the U.S. Congress, who voted this month for a huge expansion of\n"
          ]
        }
      ],
      "source": [
        "# Build input texts (title + text)\n",
        "train_texts = (train_df['title'].fillna('') + ' ' + train_df['text'].fillna('')).tolist()\n",
        "val_texts = (val_df['title'].fillna('') + ' ' + val_df['text'].fillna('')).tolist()\n",
        "y = train_df['label'].values\n",
        "\n",
        "print('Samples:', len(train_texts), 'Labels:', y.shape)\n",
        "print(train_texts[0][:200])\n"
      ]
    },
    {
      "cell_type": "code",
      "execution_count": 4,
      "metadata": {},
      "outputs": [
        {
          "name": "stderr",
          "output_type": "stream",
          "text": [
            "Batches: 100%|██████████| 125/125 [04:39<00:00,  2.24s/it]\n",
            "Batches: 100%|██████████| 32/32 [01:22<00:00,  2.59s/it]\n",
            "Batches: 100%|██████████| 20/20 [00:55<00:00,  2.75s/it]\n"
          ]
        },
        {
          "data": {
            "text/plain": [
              "((31953, 384), (7989, 384), (4956, 384))"
            ]
          },
          "execution_count": 4,
          "metadata": {},
          "output_type": "execute_result"
        }
      ],
      "source": [
        "# Encode embeddings\n",
        "embedder = SentenceTransformer('sentence-transformers/all-MiniLM-L6-v2')\n",
        "\n",
        "# Train/test split indices\n",
        "idx = np.arange(len(train_texts))\n",
        "train_idx, test_idx = train_test_split(idx, test_size=0.2, random_state=42, stratify=y)\n",
        "\n",
        "X_train = embedder.encode([train_texts[i] for i in train_idx], batch_size=256, convert_to_numpy=True, show_progress_bar=True)\n",
        "X_test = embedder.encode([train_texts[i] for i in test_idx], batch_size=256, convert_to_numpy=True, show_progress_bar=True)\n",
        "y_train = y[train_idx]\n",
        "y_test = y[test_idx]\n",
        "\n",
        "X_val = embedder.encode(val_texts, batch_size=256, convert_to_numpy=True, show_progress_bar=True)\n",
        "\n",
        "X_train.shape, X_test.shape, X_val.shape\n"
      ]
    },
    {
      "cell_type": "code",
      "execution_count": 5,
      "metadata": {},
      "outputs": [
        {
          "name": "stdout",
          "output_type": "stream",
          "text": [
            "Accuracy: 0.9480535736637877\n",
            "              precision    recall  f1-score   support\n",
            "\n",
            "        Fake       0.95      0.94      0.95      3989\n",
            "        Real       0.94      0.96      0.95      4000\n",
            "\n",
            "    accuracy                           0.95      7989\n",
            "   macro avg       0.95      0.95      0.95      7989\n",
            "weighted avg       0.95      0.95      0.95      7989\n",
            "\n"
          ]
        }
      ],
      "source": [
        "# Train classifier\n",
        "clf = LogisticRegression(max_iter=2000)\n",
        "clf.fit(X_train, y_train)\n",
        "\n",
        "y_pred = clf.predict(X_test)\n",
        "print('Accuracy:', accuracy_score(y_test, y_pred))\n",
        "print(classification_report(y_test, y_pred, target_names=['Fake','Real']))\n"
      ]
    },
    {
      "cell_type": "code",
      "execution_count": 11,
      "metadata": {},
      "outputs": [
        {
          "data": {
            "image/png": "[encoded data removed]",
            "text/plain": [
              "<Figure size 640x480 with 2 Axes>"
            ]
          },
          "metadata": {},
          "output_type": "display_data"
        }
      ],
      "source": [
        "from sklearn.metrics import confusion_matrix, ConfusionMatrixDisplay, accuracy_score, classification_report\n",
        "import matplotlib.pyplot as plt\n",
        "\n",
        "# Confusion matrix\n",
        "cm = confusion_matrix(y_test, y_pred)\n",
        "\n",
        "disp = ConfusionMatrixDisplay(confusion_matrix=cm, display_labels=['Fake', 'Real'])\n",
        "disp.plot(cmap=plt.cm.Blues)\n",
        "plt.title('Confusion Matrix')\n",
        "plt.show()\n"
      ]
    },
    {
      "cell_type": "code",
      "execution_count": 7,
      "metadata": {},
      "outputs": [
        {
          "name": "stdout",
          "output_type": "stream",
          "text": [
            "LogReg accuracy: 0.9481\n",
            "RandomForest accuracy: 0.9270\n",
            "LinearSVM accuracy: 0.9567\n",
            "\n",
            "Best embeddings model: LinearSVM (0.9567)\n"
          ]
        }
      ],
      "source": [
        "# Compare models on embeddings\n",
        "from sklearn.ensemble import RandomForestClassifier\n",
        "from sklearn.svm import SVC\n",
        "\n",
        "rf = RandomForestClassifier(n_estimators=300, random_state=42, n_jobs=-1)\n",
        "svm = SVC(kernel='linear', probability=True, random_state=42)\n",
        "\n",
        "models = {\n",
        "    'LogReg': clf,  # already fitted above\n",
        "    'RandomForest': rf,\n",
        "    'LinearSVM': svm\n",
        "}\n",
        "\n",
        "results = {}\n",
        "preds = {}\n",
        "probas = {}\n",
        "\n",
        "for name, m in models.items():\n",
        "    if name != 'LogReg':\n",
        "        m.fit(X_train, y_train)\n",
        "    y_pred = m.predict(X_test)\n",
        "    results[name] = accuracy_score(y_test, y_pred)\n",
        "    preds[name] = y_pred\n",
        "    if hasattr(m, 'predict_proba'):\n",
        "        probas[name] = m.predict_proba(X_test)\n",
        "    else:\n",
        "        # SVC without probas (if probability=False), but here True\n",
        "        probas[name] = None\n",
        "    print(f\"{name} accuracy: {results[name]:.4f}\")\n",
        "\n",
        "best_name = max(results, key=results.get)\n",
        "best_model = models[best_name]\n",
        "print(f\"\\nBest embeddings model: {best_name} ({results[best_name]:.4f})\")\n"
      ]
    },
    {
      "cell_type": "code",
      "execution_count": 8,
      "metadata": {},
      "outputs": [
        {
          "name": "stdout",
          "output_type": "stream",
          "text": [
            "Saved to embeddings_fake_news_predictions_linearsvm.csv\n"
          ]
        },
        {
          "data": {
            "text/html": [
              "<div>\n",
              "<style scoped>\n",
              "    .dataframe tbody tr th:only-of-type {\n",
              "        vertical-align: middle;\n",
              "    }\n",
              "\n",
              "    .dataframe tbody tr th {\n",
              "        vertical-align: top;\n",
              "    }\n",
              "\n",
              "    .dataframe thead th {\n",
              "        text-align: right;\n",
              "    }\n",
              "</style>\n",
              "<table border=\"1\" class=\"dataframe\">\n",
              "  <thead>\n",
              "    <tr style=\"text-align: right;\">\n",
              "      <th></th>\n",
              "      <th>id</th>\n",
              "      <th>label</th>\n",
              "      <th>probability_fake</th>\n",
              "      <th>probability_real</th>\n",
              "    </tr>\n",
              "  </thead>\n",
              "  <tbody>\n",
              "    <tr>\n",
              "      <th>0</th>\n",
              "      <td>0</td>\n",
              "      <td>1</td>\n",
              "      <td>5.634485e-07</td>\n",
              "      <td>0.999999</td>\n",
              "    </tr>\n",
              "    <tr>\n",
              "      <th>1</th>\n",
              "      <td>1</td>\n",
              "      <td>1</td>\n",
              "      <td>6.812508e-03</td>\n",
              "      <td>0.993187</td>\n",
              "    </tr>\n",
              "    <tr>\n",
              "      <th>2</th>\n",
              "      <td>2</td>\n",
              "      <td>1</td>\n",
              "      <td>1.413487e-05</td>\n",
              "      <td>0.999986</td>\n",
              "    </tr>\n",
              "    <tr>\n",
              "      <th>3</th>\n",
              "      <td>3</td>\n",
              "      <td>1</td>\n",
              "      <td>8.410532e-03</td>\n",
              "      <td>0.991589</td>\n",
              "    </tr>\n",
              "    <tr>\n",
              "      <th>4</th>\n",
              "      <td>4</td>\n",
              "      <td>1</td>\n",
              "      <td>8.643167e-06</td>\n",
              "      <td>0.999991</td>\n",
              "    </tr>\n",
              "  </tbody>\n",
              "</table>\n",
              "</div>"
            ],
            "text/plain": [
              "   id  label  probability_fake  probability_real\n",
              "0   0      1      5.634485e-07          0.999999\n",
              "1   1      1      6.812508e-03          0.993187\n",
              "2   2      1      1.413487e-05          0.999986\n",
              "3   3      1      8.410532e-03          0.991589\n",
              "4   4      1      8.643167e-06          0.999991"
            ]
          },
          "execution_count": 8,
          "metadata": {},
          "output_type": "execute_result"
        }
      ],
      "source": [
        "# Predict on validation using best model and save\n",
        "val_pred_best = best_model.predict(X_val)\n",
        "val_proba_best = best_model.predict_proba(X_val) if hasattr(best_model, 'predict_proba') else None\n",
        "\n",
        "submission_best = pd.DataFrame({\n",
        "    'id': range(len(val_df)),\n",
        "    'label': val_pred_best\n",
        "})\n",
        "\n",
        "if val_proba_best is not None:\n",
        "    submission_best['probability_fake'] = val_proba_best[:, 0]\n",
        "    submission_best['probability_real'] = val_proba_best[:, 1]\n",
        "\n",
        "out_path = f'embeddings_fake_news_predictions_{best_name.lower()}.csv'\n",
        "submission_best.to_csv(out_path, index=False)\n",
        "print(f'Saved to {out_path}')\n",
        "submission_best.head()\n"
      ]
    },
    {
      "cell_type": "code",
      "execution_count": 9,
      "metadata": {},
      "outputs": [
        {
          "name": "stdout",
          "output_type": "stream",
          "text": [
            "Saved to embeddings_fake_news_predictions.csv\n"
          ]
        },
        {
          "data": {
            "text/html": [
              "<div>\n",
              "<style scoped>\n",
              "    .dataframe tbody tr th:only-of-type {\n",
              "        vertical-align: middle;\n",
              "    }\n",
              "\n",
              "    .dataframe tbody tr th {\n",
              "        vertical-align: top;\n",
              "    }\n",
              "\n",
              "    .dataframe thead th {\n",
              "        text-align: right;\n",
              "    }\n",
              "</style>\n",
              "<table border=\"1\" class=\"dataframe\">\n",
              "  <thead>\n",
              "    <tr style=\"text-align: right;\">\n",
              "      <th></th>\n",
              "      <th>id</th>\n",
              "      <th>label</th>\n",
              "      <th>probability_fake</th>\n",
              "      <th>probability_real</th>\n",
              "    </tr>\n",
              "  </thead>\n",
              "  <tbody>\n",
              "    <tr>\n",
              "      <th>0</th>\n",
              "      <td>0</td>\n",
              "      <td>1</td>\n",
              "      <td>0.010044</td>\n",
              "      <td>0.989956</td>\n",
              "    </tr>\n",
              "    <tr>\n",
              "      <th>1</th>\n",
              "      <td>1</td>\n",
              "      <td>1</td>\n",
              "      <td>0.035159</td>\n",
              "      <td>0.964841</td>\n",
              "    </tr>\n",
              "    <tr>\n",
              "      <th>2</th>\n",
              "      <td>2</td>\n",
              "      <td>1</td>\n",
              "      <td>0.014708</td>\n",
              "      <td>0.985292</td>\n",
              "    </tr>\n",
              "    <tr>\n",
              "      <th>3</th>\n",
              "      <td>3</td>\n",
              "      <td>1</td>\n",
              "      <td>0.032449</td>\n",
              "      <td>0.967551</td>\n",
              "    </tr>\n",
              "    <tr>\n",
              "      <th>4</th>\n",
              "      <td>4</td>\n",
              "      <td>1</td>\n",
              "      <td>0.009178</td>\n",
              "      <td>0.990822</td>\n",
              "    </tr>\n",
              "  </tbody>\n",
              "</table>\n",
              "</div>"
            ],
            "text/plain": [
              "   id  label  probability_fake  probability_real\n",
              "0   0      1          0.010044          0.989956\n",
              "1   1      1          0.035159          0.964841\n",
              "2   2      1          0.014708          0.985292\n",
              "3   3      1          0.032449          0.967551\n",
              "4   4      1          0.009178          0.990822"
            ]
          },
          "execution_count": 9,
          "metadata": {},
          "output_type": "execute_result"
        }
      ],
      "source": [
        "# Predict on validation and save\n",
        "val_pred = clf.predict(X_val)\n",
        "val_proba = clf.predict_proba(X_val)\n",
        "\n",
        "submission = pd.DataFrame({\n",
        "    'id': range(len(val_df)),\n",
        "    'label': val_pred,\n",
        "    'probability_fake': val_proba[:, 0],\n",
        "    'probability_real': val_proba[:, 1]\n",
        "})\n",
        "\n",
        "submission.to_csv('embeddings_fake_news_predictions.csv', index=False)\n",
        "print('Saved to embeddings_fake_news_predictions.csv')\n",
        "submission.head()\n"
      ]
    },
    {
      "cell_type": "code",
      "execution_count": 10,
      "metadata": {},
      "outputs": [
        {
          "name": "stdout",
          "output_type": "stream",
          "text": [
            "Saved labeled validation to: dataset/validation_data_labeled_embeddings.csv\n"
          ]
        }
      ],
      "source": [
        "# Save validation with predicted labels into dataset\n",
        "import os\n",
        "\n",
        "# Try to use in-memory validation data if present; otherwise read from disk\n",
        "try:\n",
        "    original_val = validation_data.copy()\n",
        "except NameError:\n",
        "    original_val = pd.read_csv('dataset/validation_data.csv')\n",
        "\n",
        "# Ensure lengths match\n",
        "assert len(original_val) == len(submission), 'Length mismatch between validation and predictions'\n",
        "\n",
        "labeled_val = original_val.copy()\n",
        "labeled_val['label'] = submission['label'].values\n",
        "\n",
        "out_path = os.path.join('dataset', 'validation_data_labeled_embeddings.csv')\n",
        "labeled_val.to_csv(out_path, index=False)\n",
        "print(f\"Saved labeled validation to: {out_path}\")\n"
      ]
    }
  ],
  "metadata": {
    "kernelspec": {
      "display_name": "Python 3",
      "language": "python",
      "name": "python3"
    },
    "language_info": {
      "codemirror_mode": {
        "name": "ipython",
        "version": 3
      },
      "file_extension": ".py",
      "mimetype": "text/x-python",
      "name": "python",
      "nbconvert_exporter": "python",
      "pygments_lexer": "ipython3",
      "version": "3.11.8"
    }
  },
  "nbformat": 4,
  "nbformat_minor": 2
}

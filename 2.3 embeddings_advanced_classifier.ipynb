{
  "cells": [
    {
      "cell_type": "markdown",
      "metadata": {},
      "source": [
        "# Advanced Embeddings-based Classifier\n",
        "\n",
        "## Goals\n",
        "- Stronger embeddings (`all-mpnet-base-v2`) + baseline (`all-MiniLM-L6-v2`)\n",
        "- Tune LogReg / Linear SVM (C)\n",
        "- Add simple MLP head over embeddings\n",
        "- Baseline TF-IDF + LR and soft ensemble with embeddings\n",
        "- Predict validation and save CSV\n",
        "\n",
        "Run top-to-bottom.\n"
      ]
    },
    {
      "cell_type": "code",
      "execution_count": 1,
      "metadata": {},
      "outputs": [
        {
          "name": "stderr",
          "output_type": "stream",
          "text": [
            "/Users/sergej/.pyenv/versions/3.11.8/lib/python3.11/site-packages/tqdm/auto.py:21: TqdmWarning: IProgress not found. Please update jupyter and ipywidgets. See https://ipywidgets.readthedocs.io/en/stable/user_install.html\n",
            "  from .autonotebook import tqdm as notebook_tqdm\n"
          ]
        },
        {
          "name": "stdout",
          "output_type": "stream",
          "text": [
            "Setup complete\n"
          ]
        }
      ],
      "source": [
        "# Setup\n",
        "import sys\n",
        "!{sys.executable} -m pip install -q sentence-transformers scikit-learn\n",
        "\n",
        "import numpy as np\n",
        "import pandas as pd\n",
        "from sentence_transformers import SentenceTransformer\n",
        "from sklearn.model_selection import train_test_split, GridSearchCV\n",
        "from sklearn.linear_model import LogisticRegression\n",
        "from sklearn.svm import SVC\n",
        "from sklearn.metrics import accuracy_score, classification_report\n",
        "from sklearn.neural_network import MLPClassifier\n",
        "from sklearn.feature_extraction.text import TfidfVectorizer\n",
        "\n",
        "print('Setup complete')\n"
      ]
    },
    {
      "cell_type": "code",
      "execution_count": 2,
      "metadata": {},
      "outputs": [
        {
          "data": {
            "text/plain": [
              "(31953, 7989, 4956)"
            ]
          },
          "execution_count": 2,
          "metadata": {},
          "output_type": "execute_result"
        }
      ],
      "source": [
        "# Load data and build texts\n",
        "train_df = pd.read_csv('dataset/data.csv')\n",
        "val_df = pd.read_csv('dataset/validation_data.csv')\n",
        "\n",
        "train_texts = (train_df['title'].fillna('') + ' ' + train_df['text'].fillna('')).tolist()\n",
        "val_texts = (val_df['title'].fillna('') + ' ' + val_df['text'].fillna('')).tolist()\n",
        "y = train_df['label'].values\n",
        "\n",
        "idx = np.arange(len(train_texts))\n",
        "train_idx, test_idx = train_test_split(idx, test_size=0.2, random_state=42, stratify=y)\n",
        "\n",
        "y_train, y_test = y[train_idx], y[test_idx]\n",
        "texts_train = [train_texts[i] for i in train_idx]\n",
        "texts_test = [train_texts[i] for i in test_idx]\n",
        "\n",
        "len(texts_train), len(texts_test), len(val_texts)\n"
      ]
    },
    {
      "cell_type": "code",
      "execution_count": 3,
      "metadata": {},
      "outputs": [
        {
          "name": "stderr",
          "output_type": "stream",
          "text": [
            "Batches: 100%|██████████| 125/125 [04:25<00:00,  2.12s/it]\n",
            "Batches: 100%|██████████| 32/32 [01:18<00:00,  2.44s/it]\n",
            "Batches: 100%|██████████| 20/20 [00:47<00:00,  2.39s/it]\n",
            "Batches: 100%|██████████| 500/500 [51:53<00:00,  6.23s/it] \n",
            "Batches: 100%|██████████| 125/125 [14:08<00:00,  6.79s/it]\n",
            "Batches: 100%|██████████| 78/78 [12:07<00:00,  9.33s/it]\n"
          ]
        },
        {
          "data": {
            "text/plain": [
              "((31953, 384), (31953, 768))"
            ]
          },
          "execution_count": 3,
          "metadata": {},
          "output_type": "execute_result"
        }
      ],
      "source": [
        "# Encode embeddings (MiniLM + MPNet)\n",
        "mini = SentenceTransformer('sentence-transformers/all-MiniLM-L6-v2')\n",
        "mpnet = SentenceTransformer('sentence-transformers/all-mpnet-base-v2')\n",
        "\n",
        "X_train_mini = mini.encode(texts_train, batch_size=256, convert_to_numpy=True, show_progress_bar=True)\n",
        "X_test_mini = mini.encode(texts_test, batch_size=256, convert_to_numpy=True, show_progress_bar=True)\n",
        "X_val_mini = mini.encode(val_texts, batch_size=256, convert_to_numpy=True, show_progress_bar=True)\n",
        "\n",
        "X_train_mp = mpnet.encode(texts_train, batch_size=64, convert_to_numpy=True, show_progress_bar=True)\n",
        "X_test_mp = mpnet.encode(texts_test, batch_size=64, convert_to_numpy=True, show_progress_bar=True)\n",
        "X_val_mp = mpnet.encode(val_texts, batch_size=64, convert_to_numpy=True, show_progress_bar=True)\n",
        "\n",
        "X_train_mini.shape, X_train_mp.shape\n"
      ]
    },
    {
      "cell_type": "code",
      "execution_count": 4,
      "metadata": {},
      "outputs": [
        {
          "name": "stderr",
          "output_type": "stream",
          "text": [
            "huggingface/tokenizers: The current process just got forked, after parallelism has already been used. Disabling parallelism to avoid deadlocks...\n",
            "To disable this warning, you can either:\n",
            "\t- Avoid using `tokenizers` before the fork if possible\n",
            "\t- Explicitly set the environment variable huggingface/tokenizers: The current process just got forked, after parallelism has already been used. Disabling parallelism to avoid deadlocks...\n",
            "To disable this warning, you can either:\n",
            "\t- Avoid using `tokenizers` before the fork if possible\n",
            "\t- Explicitly set the environment variable TOKENIZERS_PARALLELISM=(true | false)\n",
            "TOKENIZERS_PARALLELISM=(true | false)\n",
            "huggingface/tokenizers: The current process just got forked, after parallelism has already been used. Disabling parallelism to avoid deadlocks...\n",
            "To disable this warning, you can either:\n",
            "\t- Avoid using `tokenizers` before the fork if possible\n",
            "\t- Explicitly set the environment variable TOKENIZERS_PARALLELISM=(true | false)\n",
            "huggingface/tokenizers: The current process just got forked, after parallelism has already been used. Disabling parallelism to avoid deadlocks...\n",
            "To disable this warning, you can either:\n",
            "\t- Avoid using `tokenizers` before the fork if possible\n",
            "\t- Explicitly set the environment variable TOKENIZERS_PARALLELISM=(true | false)\n",
            "huggingface/tokenizers: The current process just got forked, after parallelism has already been used. Disabling parallelism to avoid deadlocks...\n",
            "To disable this warning, you can either:\n",
            "\t- Avoid using `tokenizers` before the fork if possible\n",
            "\t- Explicitly set the environment variable TOKENIZERS_PARALLELISM=(true | false)\n",
            "huggingface/tokenizers: The current process just got forked, after parallelism has already been used. Disabling parallelism to avoid deadlocks...\n",
            "To disable this warning, you can either:\n",
            "\t- Avoid using `tokenizers` before the fork if possible\n",
            "\t- Explicitly set the environment variable TOKENIZERS_PARALLELISM=(true | false)\n",
            "huggingface/tokenizers: The current process just got forked, after parallelism has already been used. Disabling parallelism to avoid deadlocks...\n",
            "To disable this warning, you can either:\n",
            "\t- Avoid using `tokenizers` before the fork if possible\n",
            "\t- Explicitly set the environment variable TOKENIZERS_PARALLELISM=(true | false)\n",
            "huggingface/tokenizers: The current process just got forked, after parallelism has already been used. Disabling parallelism to avoid deadlocks...\n",
            "To disable this warning, you can either:\n",
            "\t- Avoid using `tokenizers` before the fork if possible\n",
            "\t- Explicitly set the environment variable TOKENIZERS_PARALLELISM=(true | false)\n",
            "huggingface/tokenizers: The current process just got forked, after parallelism has already been used. Disabling parallelism to avoid deadlocks...\n",
            "To disable this warning, you can either:\n",
            "\t- Avoid using `tokenizers` before the fork if possible\n",
            "\t- Explicitly set the environment variable TOKENIZERS_PARALLELISM=(true | false)\n"
          ]
        },
        {
          "name": "stdout",
          "output_type": "stream",
          "text": [
            "MiniLM | LR acc=0.9569 (C=5), SVM acc=0.9597 (C=5)\n"
          ]
        },
        {
          "name": "stderr",
          "output_type": "stream",
          "text": [
            "huggingface/tokenizers: The current process just got forked, after parallelism has already been used. Disabling parallelism to avoid deadlocks...\n",
            "huggingface/tokenizers: The current process just got forked, after parallelism has already been used. Disabling parallelism to avoid deadlocks...\n",
            "To disable this warning, you can either:\n",
            "\t- Avoid using `tokenizers` before the fork if possible\n",
            "\t- Explicitly set the environment variable To disable this warning, you can either:\n",
            "\t- Avoid using `tokenizers` before the fork if possible\n",
            "\t- Explicitly set the environment variable TOKENIZERS_PARALLELISM=(true | false)\n",
            "TOKENIZERS_PARALLELISM=(true | false)\n",
            "huggingface/tokenizers: The current process just got forked, after parallelism has already been used. Disabling parallelism to avoid deadlocks...\n",
            "To disable this warning, you can either:\n",
            "\t- Avoid using `tokenizers` before the fork if possible\n",
            "\t- Explicitly set the environment variable TOKENIZERS_PARALLELISM=(true | false)\n",
            "huggingface/tokenizers: The current process just got forked, after parallelism has already been used. Disabling parallelism to avoid deadlocks...\n",
            "To disable this warning, you can either:\n",
            "\t- Avoid using `tokenizers` before the fork if possible\n",
            "\t- Explicitly set the environment variable TOKENIZERS_PARALLELISM=(true | false)\n",
            "huggingface/tokenizers: The current process just got forked, after parallelism has already been used. Disabling parallelism to avoid deadlocks...\n",
            "To disable this warning, you can either:\n",
            "\t- Avoid using `tokenizers` before the fork if possible\n",
            "\t- Explicitly set the environment variable TOKENIZERS_PARALLELISM=(true | false)\n",
            "huggingface/tokenizers: The current process just got forked, after parallelism has already been used. Disabling parallelism to avoid deadlocks...\n",
            "To disable this warning, you can either:\n",
            "\t- Avoid using `tokenizers` before the fork if possible\n",
            "\t- Explicitly set the environment variable TOKENIZERS_PARALLELISM=(true | false)\n",
            "huggingface/tokenizers: The current process just got forked, after parallelism has already been used. Disabling parallelism to avoid deadlocks...\n",
            "To disable this warning, you can either:\n",
            "\t- Avoid using `tokenizers` before the fork if possible\n",
            "\t- Explicitly set the environment variable TOKENIZERS_PARALLELISM=(true | false)\n",
            "huggingface/tokenizers: The current process just got forked, after parallelism has already been used. Disabling parallelism to avoid deadlocks...\n",
            "To disable this warning, you can either:\n",
            "\t- Avoid using `tokenizers` before the fork if possible\n",
            "\t- Explicitly set the environment variable TOKENIZERS_PARALLELISM=(true | false)\n"
          ]
        },
        {
          "name": "stdout",
          "output_type": "stream",
          "text": [
            "MPNet | LR acc=0.9740 (C=5), SVM acc=0.9795 (C=5)\n"
          ]
        },
        {
          "data": {
            "text/plain": [
              "{'MiniLM_LR': (0.9569407935911879, LogisticRegression(C=5, max_iter=3000)),\n",
              " 'MiniLM_SVM': (0.9596945800475654,\n",
              "  SVC(C=5, kernel='linear', probability=True)),\n",
              " 'MPNet_LR': (0.973964200776067, LogisticRegression(C=5, max_iter=3000)),\n",
              " 'MPNet_SVM': (0.9794717736888221,\n",
              "  SVC(C=5, kernel='linear', probability=True))}"
            ]
          },
          "execution_count": 4,
          "metadata": {},
          "output_type": "execute_result"
        }
      ],
      "source": [
        "# Tune LogReg and Linear SVM on embeddings\n",
        "from sklearn.pipeline import Pipeline\n",
        "\n",
        "results = {}\n",
        "\n",
        "def fit_and_eval(X_train, X_test, name):\n",
        "    # Logistic Regression\n",
        "    lr = GridSearchCV(LogisticRegression(max_iter=3000),\n",
        "                      param_grid={'C':[0.1, 0.5, 1, 2, 5]},\n",
        "                      cv=5, n_jobs=-1)\n",
        "    lr.fit(X_train, y_train)\n",
        "    pred_lr = lr.predict(X_test)\n",
        "    acc_lr = accuracy_score(y_test, pred_lr)\n",
        "\n",
        "    # Linear SVM (probability=True для совместимости ансамбля)\n",
        "    svm = GridSearchCV(SVC(kernel='linear', probability=True),\n",
        "                       param_grid={'C':[0.1, 0.5, 1, 2, 5]},\n",
        "                       cv=5, n_jobs=-1)\n",
        "    svm.fit(X_train, y_train)\n",
        "    pred_svm = svm.predict(X_test)\n",
        "    acc_svm = accuracy_score(y_test, pred_svm)\n",
        "\n",
        "    results[f'{name}_LR'] = (acc_lr, lr.best_estimator_)\n",
        "    results[f'{name}_SVM'] = (acc_svm, svm.best_estimator_)\n",
        "    print(f'{name} | LR acc={acc_lr:.4f} (C={lr.best_params_[\"C\"]}), SVM acc={acc_svm:.4f} (C={svm.best_params_[\"C\"]})')\n",
        "\n",
        "fit_and_eval(X_train_mini, X_test_mini, 'MiniLM')\n",
        "fit_and_eval(X_train_mp, X_test_mp, 'MPNet')\n",
        "\n",
        "results\n"
      ]
    },
    {
      "cell_type": "code",
      "execution_count": 5,
      "metadata": {},
      "outputs": [
        {
          "name": "stdout",
          "output_type": "stream",
          "text": [
            "MLP (MPNet) acc: 0.9833521091500813\n"
          ]
        },
        {
          "name": "stderr",
          "output_type": "stream",
          "text": [
            "/Users/sergej/.pyenv/versions/3.11.8/lib/python3.11/site-packages/sklearn/neural_network/_multilayer_perceptron.py:781: ConvergenceWarning: Stochastic Optimizer: Maximum iterations (30) reached and the optimization hasn't converged yet.\n",
            "  warnings.warn(\n"
          ]
        },
        {
          "data": {
            "text/plain": [
              "{'MiniLM_LR': (0.9569407935911879, LogisticRegression(C=5, max_iter=3000)),\n",
              " 'MiniLM_SVM': (0.9596945800475654,\n",
              "  SVC(C=5, kernel='linear', probability=True)),\n",
              " 'MPNet_LR': (0.973964200776067, LogisticRegression(C=5, max_iter=3000)),\n",
              " 'MPNet_SVM': (0.9794717736888221,\n",
              "  SVC(C=5, kernel='linear', probability=True)),\n",
              " 'MPNet_MLP': (0.9833521091500813,\n",
              "  MLPClassifier(batch_size=256, hidden_layer_sizes=(256,), max_iter=30,\n",
              "                random_state=42))}"
            ]
          },
          "execution_count": 5,
          "metadata": {},
          "output_type": "execute_result"
        }
      ],
      "source": [
        "# MLP head over embeddings (MPNet)\n",
        "mlp = MLPClassifier(hidden_layer_sizes=(256,), activation='relu', solver='adam',\n",
        "                    alpha=1e-4, batch_size=256, max_iter=30, random_state=42)\n",
        "mlp.fit(X_train_mp, y_train)\n",
        "\n",
        "pred_mlp = mlp.predict(X_test_mp)\n",
        "acc_mlp = accuracy_score(y_test, pred_mlp)\n",
        "print('MLP (MPNet) acc:', acc_mlp)\n",
        "\n",
        "results['MPNet_MLP'] = (acc_mlp, mlp)\n",
        "results\n"
      ]
    },
    {
      "cell_type": "code",
      "execution_count": 7,
      "metadata": {},
      "outputs": [
        {
          "name": "stdout",
          "output_type": "stream",
          "text": [
            "TF-IDF+LR acc: 0.9888596820628364\n",
            "Best embeddings model: TFIDF_LR acc=0.9889\n",
            "Soft ensemble acc: 0.9888596820628364\n"
          ]
        },
        {
          "data": {
            "text/plain": [
              "{'MiniLM_LR': (0.9569407935911879, LogisticRegression(C=5, max_iter=3000)),\n",
              " 'MiniLM_SVM': (0.9596945800475654,\n",
              "  SVC(C=5, kernel='linear', probability=True)),\n",
              " 'MPNet_LR': (0.973964200776067, LogisticRegression(C=5, max_iter=3000)),\n",
              " 'MPNet_SVM': (0.9794717736888221,\n",
              "  SVC(C=5, kernel='linear', probability=True)),\n",
              " 'MPNet_MLP': (0.9833521091500813,\n",
              "  MLPClassifier(batch_size=256, hidden_layer_sizes=(256,), max_iter=30,\n",
              "                random_state=42)),\n",
              " 'TFIDF_LR': (0.9888596820628364,\n",
              "  (TfidfVectorizer(max_df=0.8, max_features=5000, min_df=3, ngram_range=(1, 2)),\n",
              "   LogisticRegression(max_iter=3000))),\n",
              " 'SOFT_ENSEMBLE': (0.9888596820628364, ('ensemble', 'TFIDF_LR'))}"
            ]
          },
          "execution_count": 7,
          "metadata": {},
          "output_type": "execute_result"
        }
      ],
      "source": [
        "# TF-IDF + LR baseline and soft ensemble with best embedding model\n",
        "from sklearn.pipeline import make_pipeline\n",
        "from sklearn.preprocessing import StandardScaler\n",
        "\n",
        "# TF-IDF baseline (на train/test)\n",
        "vectorizer = TfidfVectorizer(max_features=5000, ngram_range=(1,2), min_df=3, max_df=0.8)\n",
        "X_train_tf = vectorizer.fit_transform(texts_train)\n",
        "X_test_tf = vectorizer.transform(texts_test)\n",
        "\n",
        "lr_tf = LogisticRegression(max_iter=3000)\n",
        "lr_tf.fit(X_train_tf, y_train)\n",
        "\n",
        "pred_tf = lr_tf.predict(X_test_tf)\n",
        "acc_tf = accuracy_score(y_test, pred_tf)\n",
        "print('TF-IDF+LR acc:', acc_tf)\n",
        "\n",
        "results['TFIDF_LR'] = (acc_tf, (vectorizer, lr_tf))\n",
        "\n",
        "# Выбор лучшей embeddings-модели\n",
        "best_name = max(results, key=lambda k: results[k][0])\n",
        "best_acc, best_est = results[best_name]\n",
        "print(f'Best embeddings model: {best_name} acc={best_acc:.4f}')\n",
        "\n",
        "# Подготовим вероятности для soft-ensemble (если модель умеет probas)\n",
        "def get_proba(est, X):\n",
        "    if isinstance(est, LogisticRegression) or isinstance(est, SVC):\n",
        "        return est.predict_proba(X)\n",
        "    if isinstance(est, MLPClassifier):\n",
        "        return est.predict_proba(X)\n",
        "    # (vectorizer, lr) пара\n",
        "    if isinstance(est, tuple) and isinstance(est[1], LogisticRegression):\n",
        "        vec, lrm = est\n",
        "        return lrm.predict_proba(vec.transform(texts_test))\n",
        "    return None\n",
        "\n",
        "'''\n",
        "# Вероятности\n",
        "# Для embeddings лучшую модель применим на соответствующем X_test\n",
        "if 'MPNet' in best_name:\n",
        "    proba_emb = best_est.predict_proba(X_test_mp)\n",
        "else:\n",
        "    proba_emb = best_est.predict_proba(X_test_mini)\n",
        "'''\n",
        "\n",
        "if 'MPNet' in best_name:\n",
        "    proba_emb = get_proba(best_est, X_test_mp)\n",
        "else:\n",
        "    proba_emb = get_proba(best_est, X_test_mini)\n",
        "\n",
        "\n",
        "\n",
        "proba_tf = lr_tf.predict_proba(X_test_tf)\n",
        "\n",
        "# Soft-average ансамбль\n",
        "proba_ens = 0.5 * proba_emb + 0.5 * proba_tf\n",
        "pred_ens = np.argmax(proba_ens, axis=1)\n",
        "acc_ens = accuracy_score(y_test, pred_ens)\n",
        "print('Soft ensemble acc:', acc_ens)\n",
        "\n",
        "results['SOFT_ENSEMBLE'] = (acc_ens, ('ensemble', best_name))\n",
        "results\n"
      ]
    },
    {
      "cell_type": "code",
      "execution_count": 8,
      "metadata": {},
      "outputs": [
        {
          "name": "stdout",
          "output_type": "stream",
          "text": [
            "Best overall: TFIDF_LR 0.9888596820628364\n",
            "Saved to advanced_embeddings_predictions_TFIDF_LR.csv\n"
          ]
        },
        {
          "data": {
            "text/html": [
              "<div>\n",
              "<style scoped>\n",
              "    .dataframe tbody tr th:only-of-type {\n",
              "        vertical-align: middle;\n",
              "    }\n",
              "\n",
              "    .dataframe tbody tr th {\n",
              "        vertical-align: top;\n",
              "    }\n",
              "\n",
              "    .dataframe thead th {\n",
              "        text-align: right;\n",
              "    }\n",
              "</style>\n",
              "<table border=\"1\" class=\"dataframe\">\n",
              "  <thead>\n",
              "    <tr style=\"text-align: right;\">\n",
              "      <th></th>\n",
              "      <th>id</th>\n",
              "      <th>label</th>\n",
              "      <th>probability_fake</th>\n",
              "      <th>probability_real</th>\n",
              "    </tr>\n",
              "  </thead>\n",
              "  <tbody>\n",
              "    <tr>\n",
              "      <th>0</th>\n",
              "      <td>0</td>\n",
              "      <td>0</td>\n",
              "      <td>0.815472</td>\n",
              "      <td>0.184528</td>\n",
              "    </tr>\n",
              "    <tr>\n",
              "      <th>1</th>\n",
              "      <td>1</td>\n",
              "      <td>0</td>\n",
              "      <td>0.753969</td>\n",
              "      <td>0.246031</td>\n",
              "    </tr>\n",
              "    <tr>\n",
              "      <th>2</th>\n",
              "      <td>2</td>\n",
              "      <td>1</td>\n",
              "      <td>0.495647</td>\n",
              "      <td>0.504353</td>\n",
              "    </tr>\n",
              "    <tr>\n",
              "      <th>3</th>\n",
              "      <td>3</td>\n",
              "      <td>0</td>\n",
              "      <td>0.536933</td>\n",
              "      <td>0.463067</td>\n",
              "    </tr>\n",
              "    <tr>\n",
              "      <th>4</th>\n",
              "      <td>4</td>\n",
              "      <td>0</td>\n",
              "      <td>0.707862</td>\n",
              "      <td>0.292138</td>\n",
              "    </tr>\n",
              "  </tbody>\n",
              "</table>\n",
              "</div>"
            ],
            "text/plain": [
              "   id  label  probability_fake  probability_real\n",
              "0   0      0          0.815472          0.184528\n",
              "1   1      0          0.753969          0.246031\n",
              "2   2      1          0.495647          0.504353\n",
              "3   3      0          0.536933          0.463067\n",
              "4   4      0          0.707862          0.292138"
            ]
          },
          "execution_count": 8,
          "metadata": {},
          "output_type": "execute_result"
        }
      ],
      "source": [
        "# Pick best overall and predict validation\n",
        "best_overall = max(results, key=lambda k: results[k][0])\n",
        "best_overall_acc, best_overall_est = results[best_overall]\n",
        "print('Best overall:', best_overall, best_overall_acc)\n",
        "\n",
        "# Build validation predictions\n",
        "if best_overall.startswith('MiniLM_'):\n",
        "    proba_val = best_overall_est.predict_proba(X_val_mini)\n",
        "elif best_overall.startswith('MPNet_'):\n",
        "    proba_val = best_overall_est.predict_proba(X_val_mp)\n",
        "elif best_overall == 'MPNet_MLP':\n",
        "    proba_val = best_overall_est.predict_proba(X_val_mp)\n",
        "elif best_overall == 'TFIDF_LR':\n",
        "    proba_val = best_overall_est[1].predict_proba(TfidfVectorizer(max_features=5000, ngram_range=(1,2), min_df=3, max_df=0.8).fit(train_texts).transform(val_texts))\n",
        "elif best_overall == 'SOFT_ENSEMBLE':\n",
        "    # ensemble = 0.5 * best embedding + 0.5 * TF-IDF LR\n",
        "    if 'MPNet' in best_name:\n",
        "        proba_emb_val = best_est.predict_proba(X_val_mp)\n",
        "    else:\n",
        "        proba_emb_val = best_est.predict_proba(X_val_mini)\n",
        "    proba_tf_val = lr_tf.predict_proba(TfidfVectorizer(max_features=5000, ngram_range=(1,2), min_df=3, max_df=0.8).fit(train_texts).transform(val_texts))\n",
        "    proba_val = 0.5 * proba_emb_val + 0.5 * proba_tf_val\n",
        "else:\n",
        "    raise ValueError('Unknown best model key')\n",
        "\n",
        "pred_val = np.argmax(proba_val, axis=1)\n",
        "sub = pd.DataFrame({\n",
        "    'id': range(len(val_df)),\n",
        "    'label': pred_val,\n",
        "    'probability_fake': proba_val[:,0],\n",
        "    'probability_real': proba_val[:,1]\n",
        "})\n",
        "\n",
        "out_path = f'advanced_embeddings_predictions_{best_overall}.csv'\n",
        "sub.to_csv(out_path, index=False)\n",
        "print('Saved to', out_path)\n",
        "sub.head()\n"
      ]
    },
    {
      "cell_type": "code",
      "execution_count": 11,
      "metadata": {},
      "outputs": [
        {
          "name": "stdout",
          "output_type": "stream",
          "text": [
            "Saved labeled validation to: dataset/validation_data_labeled_embeddings_advanced.csv\n"
          ]
        }
      ],
      "source": [
        "# Save validation with predicted labels into dataset\n",
        "import os\n",
        "\n",
        "# Try to use in-memory validation data if present; otherwise read from disk\n",
        "try:\n",
        "    original_val = val_df.copy()\n",
        "except NameError:\n",
        "    original_val = pd.read_csv('dataset/validation_data.csv')\n",
        "\n",
        "# Ensure lengths match\n",
        "assert len(original_val) == len(sub), 'Length mismatch between validation and predictions'\n",
        "\n",
        "labeled_val = original_val.copy()\n",
        "labeled_val['label'] = sub['label'].values\n",
        "\n",
        "out_path = os.path.join('dataset', 'validation_data_labeled_embeddings_advanced.csv')\n",
        "labeled_val.to_csv(out_path, index=False)\n",
        "print(f\"Saved labeled validation to: {out_path}\")\n"
      ]
    }
  ],
  "metadata": {
    "kernelspec": {
      "display_name": "Python 3",
      "language": "python",
      "name": "python3"
    },
    "language_info": {
      "codemirror_mode": {
        "name": "ipython",
        "version": 3
      },
      "file_extension": ".py",
      "mimetype": "text/x-python",
      "name": "python",
      "nbconvert_exporter": "python",
      "pygments_lexer": "ipython3",
      "version": "3.11.8"
    }
  },
  "nbformat": 4,
  "nbformat_minor": 2
}
